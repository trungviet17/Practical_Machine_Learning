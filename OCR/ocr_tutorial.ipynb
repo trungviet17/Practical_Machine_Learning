{
 "cells": [
  {
   "cell_type": "markdown",
   "metadata": {},
   "source": [
    "# Sử dụng thư viện Tesseract "
   ]
  },
  {
   "cell_type": "code",
   "execution_count": 7,
   "metadata": {},
   "outputs": [],
   "source": [
    "import pytesseract \n",
    "import PIL \n",
    "import cv2 "
   ]
  },
  {
   "cell_type": "code",
   "execution_count": 16,
   "metadata": {},
   "outputs": [
    {
     "name": "stdout",
     "output_type": "stream",
     "text": [
      "SỞ GIÁO DỤC VÀ ĐÀO TẠO. KỲ THI KHẢO SÁT CHẮT LƯỢNG LỚP 9 THCS NĂM.\n",
      "\n",
      "HƯNG YÊN HỌC 2022 - 2023\n",
      "| S BÀI THỊ: TOÁN Ñ\n",
      "ĐÈ THỊ CHÍNH THỨC Thời gian làm bài: 120 phút (không kể thời gian phát đề)\n",
      "\n",
      "(Đề gồm 04 trang, 50 câu)\n",
      "\n",
      "Câul,\n",
      "\n",
      "Câu2.\n",
      "\n",
      "Câu3.\n",
      "\n",
      "Câu4.\n",
      "\n",
      "Câu 6.\n",
      "\n",
      "ĐÈSÓI\n",
      "\n",
      "<TH> Hệ phương trình nào sau đây vô nghiệm?\n",
      "2x+y==\n",
      "\n",
      "<TH> Phương trình x — 4x +n = 0 có nghiệm kép, khi đó giá trị của m bằng\n",
      "A.m=4 B.m=l6 L 16 D.m=¬4\n",
      "\n",
      "<NB> Trong các hình vẽ sau. hình nảo thể hiện góc có đỉnh bên ngoài đường tròn?\n",
      ":\n",
      "P>\n",
      "\n",
      "A.Hình2 B. Hình 4 C.Hình 1 D.Hình 3\n",
      "<NB> Cho tam giác 48C vuông tại 4, đường cao 47 ( H e BC). Hệ thức nào đúng?\n",
      "A.4C`=8CBH. B.AB`=AHBC. C.AHP=AB.IC. D.AH.BC-B.AC\n",
      "\n",
      "<TH> Cho đường tròn (-4;2cm) và đường tròn (Ø;3cm)) Biết -48 = 5cm , số tiếp tuyến chung\n",
      "ngoài của hai đường tròn là\n",
      "\n",
      "A.3 B.2 c D.4\n",
      "\n",
      "<TH> Cho đường tròn (Ø) đường kính .1 . Lắy một điểm C thuộc đường tròn (Ø) sao cho\n",
      "\n",
      "'s48C=100°, khi đó số đo góc 84C là\n",
      "\n",
      "\n"
     ]
    }
   ],
   "source": [
    "img = cv2.imread(\"img.png\", cv2.IMREAD_GRAYSCALE)\n",
    "result = pytesseract.image_to_string(img, lang = 'vie+equ')\n",
    "print(result)"
   ]
  },
  {
   "cell_type": "code",
   "execution_count": null,
   "metadata": {},
   "outputs": [],
   "source": []
  }
 ],
 "metadata": {
  "kernelspec": {
   "display_name": "ml_env",
   "language": "python",
   "name": "python3"
  },
  "language_info": {
   "codemirror_mode": {
    "name": "ipython",
    "version": 3
   },
   "file_extension": ".py",
   "mimetype": "text/x-python",
   "name": "python",
   "nbconvert_exporter": "python",
   "pygments_lexer": "ipython3",
   "version": "3.11.9"
  }
 },
 "nbformat": 4,
 "nbformat_minor": 2
}
