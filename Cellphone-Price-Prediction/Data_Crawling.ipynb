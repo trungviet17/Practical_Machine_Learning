{
 "cells": [
  {
   "cell_type": "markdown",
   "metadata": {},
   "source": [
    "# Data Crawling \n",
    "- Phần này dùng để chuẩn bị dữ liệu cho việc huấn luyện mô hình dự đoán giá điện thoại dựa vào một số đặc điểm của nó.\n",
    "- Dữ liệu được thu thập từ các nhà bán lẻ điện thoại tại Việt Nam : Cellphones, Thegioididong, ... \n",
    "- Một số trường dữ liệu cần thiết cho việc dự đoán : </br>\n",
    "    1. \n"
   ]
  },
  {
   "cell_type": "code",
   "execution_count": 3,
   "metadata": {},
   "outputs": [],
   "source": [
    "import pandas as pd \n",
    "import requests\n",
    "import bs4\n",
    "import numpy as np \n",
    "import time , os, json"
   ]
  },
  {
   "cell_type": "code",
   "execution_count": 6,
   "metadata": {},
   "outputs": [],
   "source": [
    "class GMSarena_crawler : \n",
    "    \"\"\"\n",
    "    Khởi tạo nhận brand và id của brand \n",
    "    - Lưu đường dẫn html\n",
    "    - Lưu đường dẫn tới file lưu \n",
    "    \n",
    "    \"\"\"\n",
    "    def __init__(self, brand: str, brand_id: int): \n",
    "        self.df = pd.DataFrame(data = [])\n",
    "        self.path = \"https://www.gsmarena.com/\" + brand + \"-phones-\" + str(brand_id) + \".php\"\n",
    "        self.save_path = \"\"\n",
    "        self.feature = []\n",
    "\n",
    "\n",
    "    \"\"\"Dùng để crawl thông tin của một trang, trả về đối tương soup \"\"\"    \n",
    "    def crawl_page(self,  link): \n",
    "        \n",
    "        time.sleep(30)\n",
    "\n",
    "        try: \n",
    "            page = requests.get(link, timeout=5)\n",
    "            \n",
    "            soup = bs4.BeautifulSoup(page.text, \"html.parser\")\n",
    "\n",
    "            return soup\n",
    "        \n",
    "        except ConnectionError as err : \n",
    "            print(\"Connection Error!\")\n",
    "            exit()\n",
    "\n",
    "        except Exception as err : \n",
    "            print(\"Error!\")\n",
    "            exit()\n",
    "\n",
    "    \n",
    "    \n",
    "\n",
    "    \"\"\"Hàm này crawl các đường link của từng model trong trang gốc\"\"\"\n",
    "    def crawl_model_link(self, soup):\n",
    "        models = soup.find_all(attrs={\"class\" : 'makers'})\n",
    "        href_val = []\n",
    "        print(models)\n",
    "        list_a = models[0].find_all('a')\n",
    "        for a in list_a: \n",
    "            href_val.append(a['href'])\n",
    "         \n",
    "        return href_val\n",
    "    \n",
    "\n",
    "    \n",
    "    \"\"\"Hàm này crawl thông tin của một điện thoại\"\"\"\n",
    "    def crawl_model(self, href_val):\n",
    "\n",
    "        for i in href_val :\n",
    "            soup = self.crawl_page('https://www.gsmarena.com/' + i)\n",
    "            spec_list = soup.find_all(attrs = {\"id\" : 'specs-list'})\n",
    "            specs = self.crawl_spec_table(spec_list[0])\n",
    "            \n",
    "        \n",
    "    \n",
    "    def test(self): \n",
    "        soup_page = self.crawl_page(self.path)\n",
    "        href_val = self.crawl_model_link(soup_page)\n",
    "        self.crawl_model(href_val)\n",
    "\n",
    "\n",
    "    \"\"\"Hàm này crawl giá của một model\"\"\"\n",
    "    def crawl_price(self): \n",
    "        pass\n",
    "\n",
    "\n",
    "    \"\"\" Hàm này crawl dữ liệu spec của 1 model \"\"\"\n",
    "    def crawl_spec_table(self, spec_list):\n",
    "        specs = {}\n",
    "        tables = spec_list.find_all('table')\n",
    "        \n",
    "\n",
    "        for table in tables : \n",
    "            ttl_a_tags = table.find_all('td', class_='ttl')\n",
    "            nfo_a_tags = table.find_all('td', class_='nfo')\n",
    "            pre_key = table.find('th').get_text()\n",
    "            for i in range(min(len(ttl_a_tags), len(nfo_a_tags))):\n",
    "            \n",
    "                key = ttl_a_tags[i].find('a').get_text()\n",
    "                val = nfo_a_tags[i].find('a').get_text()\n",
    "\n",
    "                specs[pre_key + key] = val\n",
    "        \n",
    "\n",
    "        return specs        \n",
    "\n",
    "\n",
    "    \"\"\" Hàm này save dữ liệu xuống file \"\"\"\n",
    "    def save(self): \n",
    "        pass \n",
    "\n",
    "\n",
    "\n",
    "    \"\"\"Hàm này để test tính năng\"\"\""
   ]
  },
  {
   "cell_type": "markdown",
   "metadata": {},
   "source": [
    "# Test"
   ]
  },
  {
   "cell_type": "code",
   "execution_count": 7,
   "metadata": {},
   "outputs": [
    {
     "name": "stdout",
     "output_type": "stream",
     "text": [
      "[]\n"
     ]
    },
    {
     "ename": "IndexError",
     "evalue": "list index out of range",
     "output_type": "error",
     "traceback": [
      "\u001b[1;31m---------------------------------------------------------------------------\u001b[0m",
      "\u001b[1;31mIndexError\u001b[0m                                Traceback (most recent call last)",
      "Cell \u001b[1;32mIn[7], line 2\u001b[0m\n\u001b[0;32m      1\u001b[0m test \u001b[38;5;241m=\u001b[39m GMSarena_crawler(\u001b[38;5;124m'\u001b[39m\u001b[38;5;124msamsung\u001b[39m\u001b[38;5;124m'\u001b[39m, \u001b[38;5;241m9\u001b[39m)\n\u001b[1;32m----> 2\u001b[0m tmp \u001b[38;5;241m=\u001b[39m  \u001b[43mtest\u001b[49m\u001b[38;5;241;43m.\u001b[39;49m\u001b[43mtest\u001b[49m\u001b[43m(\u001b[49m\u001b[43m)\u001b[49m\n\u001b[0;32m      3\u001b[0m tmp\n",
      "Cell \u001b[1;32mIn[6], line 63\u001b[0m, in \u001b[0;36mGMSarena_crawler.test\u001b[1;34m(self)\u001b[0m\n\u001b[0;32m     61\u001b[0m \u001b[38;5;28;01mdef\u001b[39;00m \u001b[38;5;21mtest\u001b[39m(\u001b[38;5;28mself\u001b[39m): \n\u001b[0;32m     62\u001b[0m     soup_page \u001b[38;5;241m=\u001b[39m \u001b[38;5;28mself\u001b[39m\u001b[38;5;241m.\u001b[39mcrawl_page(\u001b[38;5;28mself\u001b[39m\u001b[38;5;241m.\u001b[39mpath)\n\u001b[1;32m---> 63\u001b[0m     href_val \u001b[38;5;241m=\u001b[39m \u001b[38;5;28;43mself\u001b[39;49m\u001b[38;5;241;43m.\u001b[39;49m\u001b[43mcrawl_model_link\u001b[49m\u001b[43m(\u001b[49m\u001b[43msoup_page\u001b[49m\u001b[43m)\u001b[49m\n\u001b[0;32m     64\u001b[0m     \u001b[38;5;28mself\u001b[39m\u001b[38;5;241m.\u001b[39mcrawl_model(href_val)\n",
      "Cell \u001b[1;32mIn[6], line 43\u001b[0m, in \u001b[0;36mGMSarena_crawler.crawl_model_link\u001b[1;34m(self, soup)\u001b[0m\n\u001b[0;32m     41\u001b[0m href_val \u001b[38;5;241m=\u001b[39m []\n\u001b[0;32m     42\u001b[0m \u001b[38;5;28mprint\u001b[39m(models)\n\u001b[1;32m---> 43\u001b[0m list_a \u001b[38;5;241m=\u001b[39m \u001b[43mmodels\u001b[49m\u001b[43m[\u001b[49m\u001b[38;5;241;43m0\u001b[39;49m\u001b[43m]\u001b[49m\u001b[38;5;241m.\u001b[39mfind_all(\u001b[38;5;124m'\u001b[39m\u001b[38;5;124ma\u001b[39m\u001b[38;5;124m'\u001b[39m)\n\u001b[0;32m     44\u001b[0m \u001b[38;5;28;01mfor\u001b[39;00m a \u001b[38;5;129;01min\u001b[39;00m list_a: \n\u001b[0;32m     45\u001b[0m     href_val\u001b[38;5;241m.\u001b[39mappend(a[\u001b[38;5;124m'\u001b[39m\u001b[38;5;124mhref\u001b[39m\u001b[38;5;124m'\u001b[39m])\n",
      "\u001b[1;31mIndexError\u001b[0m: list index out of range"
     ]
    }
   ],
   "source": [
    "test = GMSarena_crawler('samsung', 9)\n",
    "tmp =  test.test()\n",
    "tmp"
   ]
  },
  {
   "cell_type": "code",
   "execution_count": 8,
   "metadata": {},
   "outputs": [
    {
     "data": {
      "text/plain": [
       "<Response [429]>"
      ]
     },
     "execution_count": 8,
     "metadata": {},
     "output_type": "execute_result"
    }
   ],
   "source": [
    "page = requests.get('https://www.gsmarena.com/samsung-phones-9.php', timeout=5)\n",
    "page"
   ]
  },
  {
   "cell_type": "code",
   "execution_count": 9,
   "metadata": {},
   "outputs": [
    {
     "data": {
      "text/plain": [
       "<html>\n",
       "<head>\n",
       "<title>Too Many Requests</title>\n",
       "</head>\n",
       "<body>\n",
       "<h1>Too Many Requests</h1>\n",
       "</body>\n",
       "</html>"
      ]
     },
     "execution_count": 9,
     "metadata": {},
     "output_type": "execute_result"
    }
   ],
   "source": [
    "soup = bs4.BeautifulSoup(page.text, \"html.parser\")\n",
    "soup"
   ]
  },
  {
   "cell_type": "code",
   "execution_count": 4,
   "metadata": {},
   "outputs": [
    {
     "data": {
      "text/plain": [
       "<div class=\"makers\">\n",
       "<ul>\n",
       "<li><a href=\"samsung_galaxy_c55-12945.php\"><img src=\"https://fdn2.gsmarena.com/vv/bigpic/samsung-galaxy-c55.jpg\" title=\"Samsung Galaxy C55 Android smartphone. Announced Apr 2024. Features 6.7″  display, Snapdragon 7 Gen 1 chipset, 5000 mAh battery, 256 GB storage, 12 GB RAM.\"/><strong><span>Galaxy C55</span></strong></a></li><li><a href=\"samsung_galaxy_m55-12896.php\"><img src=\"https://fdn2.gsmarena.com/vv/bigpic/samsung-galaxy-m55.jpg\" title=\"Samsung Galaxy M55 Android smartphone. Announced Mar 2024. Features 6.7″  display, Snapdragon 7 Gen 1 chipset, 5000 mAh battery, 256 GB storage, 12 GB RAM.\"/><strong><span>Galaxy M55</span></strong></a></li><li><a href=\"samsung_galaxy_tab_s6_lite_(2024)-12897.php\"><img src=\"https://fdn2.gsmarena.com/vv/bigpic/samsung-galaxy-tab-s6-lite-2024.jpg\" title=\"Samsung Galaxy Tab S6 Lite (2024) Android tablet. Announced Mar 2024. Features 10.4″  display, 7040 mAh battery, 128 GB storage, 4 GB RAM.\"/><strong><span>Galaxy Tab S6 Lite (2024)</span></strong></a></li><li><a href=\"samsung_galaxy_a55-12824.php\"><img src=\"https://fdn2.gsmarena.com/vv/bigpic/samsung-galaxy-a55.jpg\" title=\"Samsung Galaxy A55 Android smartphone. Announced Mar 2024. Features 6.6″  display, Exynos 1480 chipset, 5000 mAh battery, 256 GB storage, 12 GB RAM, Corning Gorilla Glass Victus+.\"/><strong><span>Galaxy A55</span></strong></a></li><li><a href=\"samsung_galaxy_a35-12705.php\"><img src=\"https://fdn2.gsmarena.com/vv/bigpic/samsung-galaxy-a35.jpg\" title=\"Samsung Galaxy A35 Android smartphone. Announced Mar 2024. Features 6.6″  display, Exynos 1380 chipset, 5000 mAh battery, 256 GB storage, 8 GB RAM, Corning Gorilla Glass Victus+.\"/><strong><span>Galaxy A35</span></strong></a></li><li><a href=\"samsung_galaxy_m15-12833.php\"><img src=\"https://fdn2.gsmarena.com/vv/bigpic/samsung-galaxy-m15.jpg\" title=\"Samsung Galaxy M15 Android smartphone. Announced Mar 2024. Features 6.5″  display, Dimensity 6100+ chipset, 6000 mAh battery, 256 GB storage, 8 GB RAM.\"/><strong><span>Galaxy M15</span></strong></a></li><li><a href=\"samsung_galaxy_m14_4g-12862.php\"><img src=\"https://fdn2.gsmarena.com/vv/bigpic/samsung-galaxy-m14-4g.jpg\" title=\"Samsung Galaxy M14 4G Android smartphone. Announced Mar 2024. Features 6.7″  display, Snapdragon 680 4G chipset, 5000 mAh battery, 128 GB storage, 6 GB RAM.\"/><strong><span>Galaxy M14 4G</span></strong></a></li><li><a href=\"samsung_galaxy_f15-12831.php\"><img src=\"https://fdn2.gsmarena.com/vv/bigpic/samsung-galaxy-f15-5g.jpg\" title=\"Samsung Galaxy F15 Android smartphone. Announced Mar 2024. Features 6.6″  display, Dimensity 6100+ chipset, 6000 mAh battery, 128 GB storage, 8 GB RAM.\"/><strong><span>Galaxy F15</span></strong></a></li><li><a href=\"samsung_galaxy_s24_ultra-12771.php\"><img src=\"https://fdn2.gsmarena.com/vv/bigpic/samsung-galaxy-s24-ultra-5g-sm-s928-stylus.jpg\" title=\"Samsung Galaxy S24 Ultra Android smartphone. Announced Jan 2024. Features 6.8″  display, Snapdragon 8 Gen 3 chipset, 5000 mAh battery, 1024 GB storage, 12 GB RAM, Corning Gorilla Armor.\"/><strong><span>Galaxy S24 Ultra</span></strong></a></li><li><a href=\"samsung_galaxy_s24+-12772.php\"><img src=\"https://fdn2.gsmarena.com/vv/bigpic/samsung-galaxy-s24-plus-5g-sm-s926.jpg\" title=\"Samsung Galaxy S24+ Android smartphone. Announced Jan 2024. Features 6.7″  display, Snapdragon 8 Gen 3 chipset, 4900 mAh battery, 512 GB storage, 12 GB RAM, Corning Gorilla Glass Victus 2.\"/><strong><span>Galaxy S24+</span></strong></a></li><li><a href=\"samsung_galaxy_s24-12773.php\"><img src=\"https://fdn2.gsmarena.com/vv/bigpic/samsung-galaxy-s24-5g-sm-s921.jpg\" title=\"Samsung Galaxy S24 Android smartphone. Announced Jan 2024. Features 6.2″  display, Snapdragon 8 Gen 3 chipset, 4000 mAh battery, 512 GB storage, 12 GB RAM, Corning Gorilla Glass Victus 2.\"/><strong><span>Galaxy S24</span></strong></a></li><li><a href=\"samsung_galaxy_xcover7-12784.php\"><img src=\"https://fdn2.gsmarena.com/vv/bigpic/samsung-galaxy-xcover7.jpg\" title=\"Samsung Galaxy Xcover7 Android smartphone. Announced Jan 2024. Features 6.6″  display, Dimensity 6100+ chipset, 4050 mAh battery, 128 GB storage, 6 GB RAM, MIL-STD-810H compliant, Corning Gorilla Glass Victus+.\"/><strong><span>Galaxy Xcover7</span></strong></a></li><li><a href=\"samsung_galaxy_tab_active5-12785.php\"><img src=\"https://fdn2.gsmarena.com/vv/bigpic/samsung-galaxy-tab-active5.jpg\" title=\"Samsung Galaxy Tab Active5 Android tablet. Announced Jan 2024. Features 8.0″  display, 5 nm chipset, 5050 mAh battery, 256 GB storage, 8 GB RAM, MIL-STD-810H compliant, Corning Gorilla Glass 5.\"/><strong><span>Galaxy Tab Active5</span></strong></a></li><li><a href=\"samsung_galaxy_a25-12555.php\"><img src=\"https://fdn2.gsmarena.com/vv/bigpic/samsung-galaxy-a25.jpg\" title=\"Samsung Galaxy A25 Android smartphone. Announced Dec 2023. Features 6.5″  display, Exynos 1280 chipset, 5000 mAh battery, 256 GB storage, 8 GB RAM.\"/><strong><span>Galaxy A25</span></strong></a></li><li><a href=\"samsung_galaxy_a15_5g-12638.php\"><img src=\"https://fdn2.gsmarena.com/vv/bigpic/samsung-galaxy-a15-5g-new.jpg\" title=\"Samsung Galaxy A15 5G Android smartphone. Announced Dec 2023. Features 6.5″  display, Dimensity 6100+ chipset, 5000 mAh battery, 256 GB storage, 8 GB RAM.\"/><strong><span>Galaxy A15 5G</span></strong></a></li><li><a href=\"samsung_galaxy_a15-12637.php\"><img src=\"https://fdn2.gsmarena.com/vv/bigpic/samsung-galaxy-a15-lte-.jpg\" title=\"Samsung Galaxy A15 Android smartphone. Announced Dec 2023. Features 6.5″  display, Helio G99 chipset, 5000 mAh battery, 256 GB storage, 8 GB RAM.\"/><strong><span>Galaxy A15</span></strong></a></li><li><a href=\"samsung_galaxy_tab_a9+-12617.php\"><img src=\"https://fdn2.gsmarena.com/vv/bigpic/samsung-galaxy-tab-a9-plus.jpg\" title=\"Samsung Galaxy Tab A9+ Android tablet. Announced Oct 2023. Features 11.0″  display, Snapdragon 695 5G chipset, 7040 mAh battery, 128 GB storage, 8 GB RAM.\"/><strong><span>Galaxy Tab A9+</span></strong></a></li><li><a href=\"samsung_galaxy_tab_a9-12616.php\"><img src=\"https://fdn2.gsmarena.com/vv/bigpic/samsung-galaxy-tab-a9.jpg\" title=\"Samsung Galaxy Tab A9 Android tablet. Announced Oct 2023. Features 8.7″  display, Helio G99 chipset, 5100 mAh battery, 128 GB storage, 8 GB RAM.\"/><strong><span>Galaxy Tab A9</span></strong></a></li><li><a href=\"samsung_galaxy_s23_fe-12520.php\"><img src=\"https://fdn2.gsmarena.com/vv/bigpic/samsung-galaxy-s23-fe.jpg\" title=\"Samsung Galaxy S23 FE Android smartphone. Announced Oct 2023. Features 6.4″  display, Exynos 2200 chipset, 4500 mAh battery, 256 GB storage, 8 GB RAM, Corning Gorilla Glass 5.\"/><strong><span>Galaxy S23 FE</span></strong></a></li><li><a href=\"samsung_galaxy_tab_s9_fe+-12609.php\"><img src=\"https://fdn2.gsmarena.com/vv/bigpic/samsung-galaxy-tab-s9-fe-plus-10-.jpg\" title=\"Samsung Galaxy Tab S9 FE+ Android tablet. Announced Oct 2023. Features 12.4″  display, Exynos 1380 chipset, 10090 mAh battery, 256 GB storage, 12 GB RAM.\"/><strong><span>Galaxy Tab S9 FE+</span></strong></a></li><li><a href=\"samsung_galaxy_tab_s9_fe-12517.php\"><img src=\"https://fdn2.gsmarena.com/vv/bigpic/samsung-galaxy-tab-s9-fe-10-.jpg\" title=\"Samsung Galaxy Tab S9 FE Android tablet. Announced Oct 2023. Features 10.9″  display, Exynos 1380 chipset, 8000 mAh battery, 256 GB storage, 8 GB RAM.\"/><strong><span>Galaxy Tab S9 FE</span></strong></a></li><li><a href=\"samsung_galaxy_a05s-12584.php\"><img src=\"https://fdn2.gsmarena.com/vv/bigpic/samsung-galaxy-a05s.jpg\" title=\"Samsung Galaxy A05s Android smartphone. Announced Sep 2023. Features 6.7″  display, Snapdragon 680 4G chipset, 5000 mAh battery, 128 GB storage, 6 GB RAM.\"/><strong><span>Galaxy A05s</span></strong></a></li><li><a href=\"samsung_galaxy_a05-12583.php\"><img src=\"https://fdn2.gsmarena.com/vv/bigpic/samsung-galaxy-a05.jpg\" title=\"Samsung Galaxy A05 Android smartphone. Announced Sep 2023. Features 6.7″  display, MT6769V chipset, 5000 mAh battery, 128 GB storage, 6 GB RAM.\"/><strong><span>Galaxy A05</span></strong></a></li><li><a href=\"samsung_galaxy_f34-12453.php\"><img src=\"https://fdn2.gsmarena.com/vv/bigpic/samsung-galaxy-f34.jpg\" title=\"Samsung Galaxy F34 Android smartphone. Announced Aug 2023. Features 6.5″  display, Exynos 1280 chipset, 6000 mAh battery, 128 GB storage, 8 GB RAM, Corning Gorilla Glass 5.\"/><strong><span>Galaxy F34</span></strong></a></li><li><a href=\"samsung_galaxy_z_fold5-12418.php\"><img src=\"https://fdn2.gsmarena.com/vv/bigpic/samsung-galaxy-z-fold5-5g.jpg\" title=\"Samsung Galaxy Z Fold5 Android smartphone. Announced Jul 2023. Features 7.6″  display, Snapdragon 8 Gen 2 chipset, 4400 mAh battery, 1024 GB storage, 12 GB RAM.\"/><strong><span>Galaxy Z Fold5</span></strong></a></li><li><a href=\"samsung_galaxy_z_flip5-12252.php\"><img src=\"https://fdn2.gsmarena.com/vv/bigpic/samsung-galaxy-z-flip5-5g.jpg\" title=\"Samsung Galaxy Z Flip5 Android smartphone. Announced Jul 2023. Features 6.7″  display, Snapdragon 8 Gen 2 chipset, 3700 mAh battery, 512 GB storage, 8 GB RAM.\"/><strong><span>Galaxy Z Flip5</span></strong></a></li><li><a href=\"samsung_galaxy_tab_s9_ultra-12217.php\"><img src=\"https://fdn2.gsmarena.com/vv/bigpic/samsung-galaxy-tab-s9-ultra-5g.jpg\" title=\"Samsung Galaxy Tab S9 Ultra Android tablet. Announced Jul 2023. Features 14.6″  display, Snapdragon 8 Gen 2 chipset, 11200 mAh battery, 1024 GB storage, 16 GB RAM, Corning Gorilla Glass.\"/><strong><span>Galaxy Tab S9 Ultra</span></strong></a></li><li><a href=\"samsung_galaxy_tab_s9+-12440.php\"><img src=\"https://fdn2.gsmarena.com/vv/bigpic/samsung-galaxy-tab-s9-plus-5g.jpg\" title=\"Samsung Galaxy Tab S9+ Android tablet. Announced Jul 2023. Features 12.4″  display, Snapdragon 8 Gen 2 chipset, 10090 mAh battery, 512 GB storage, 12 GB RAM, Corning Gorilla Glass.\"/><strong><span>Galaxy Tab S9+</span></strong></a></li><li><a href=\"samsung_galaxy_tab_s9-12439.php\"><img src=\"https://fdn2.gsmarena.com/vv/bigpic/samsung-galaxy-tab-s9-5g.jpg\" title=\"Samsung Galaxy Tab S9 Android tablet. Announced Jul 2023. Features 11.0″  display, Snapdragon 8 Gen 2 chipset, 8400 mAh battery, 256 GB storage, 12 GB RAM, Corning Gorilla Glass.\"/><strong><span>Galaxy Tab S9</span></strong></a></li><li><a href=\"samsung_galaxy_watch6_classic-12438.php\"><img src=\"https://fdn2.gsmarena.com/vv/bigpic/samsung-galaxy-watch6-classic.jpg\" title=\"Samsung Galaxy Watch6 Classic Android watch. Announced Jul 2023. Features 1.5″  display, Exynos W930 chipset, 425 mAh battery, 16 GB storage, 2 GB RAM, MIL-STD-810H compliant, Sapphire crystal.\"/><strong><span>Galaxy Watch6 Classic</span></strong></a></li><li><a href=\"samsung_galaxy_watch6-12437.php\"><img src=\"https://fdn2.gsmarena.com/vv/bigpic/samsung-galaxy-watch6.jpg\" title=\"Samsung Galaxy Watch6 Android watch. Announced Jul 2023. Features 1.5″  display, Exynos W930 chipset, 425 mAh battery, 16 GB storage, 2 GB RAM, MIL-STD-810H compliant, Sapphire crystal.\"/><strong><span>Galaxy Watch6</span></strong></a></li><li><a href=\"samsung_galaxy_m34_5g-11290.php\"><img src=\"https://fdn2.gsmarena.com/vv/bigpic/samsung-galaxy-m34-5g.jpg\" title=\"Samsung Galaxy M34 5G Android smartphone. Announced Jul 2023. Features 6.5″  display, Exynos 1280 chipset, 6000 mAh battery, 256 GB storage, 8 GB RAM, Corning Gorilla Glass 5.\"/><strong><span>Galaxy M34 5G</span></strong></a></li><li><a href=\"samsung_galaxy_f54-12239.php\"><img src=\"https://fdn2.gsmarena.com/vv/bigpic/samsung-galaxy-f54-5g.jpg\" title=\"Samsung Galaxy F54 Android smartphone. Announced Jun 2023. Features 6.7″  display, Exynos 1380 chipset, 6000 mAh battery, 256 GB storage, 8 GB RAM.\"/><strong><span>Galaxy F54</span></strong></a></li><li><a href=\"samsung_galaxy_a24_4g-12176.php\"><img src=\"https://fdn2.gsmarena.com/vv/bigpic/samsung-galaxy-a24-4g-2.jpg\" title=\"Samsung Galaxy A24 4G Android smartphone. Announced Apr 2023. Features 6.5″  display, Helio G99 chipset, 5000 mAh battery, 128 GB storage, 8 GB RAM.\"/><strong><span>Galaxy A24 4G</span></strong></a></li><li><a href=\"samsung_galaxy_f14-12175.php\"><img src=\"https://fdn2.gsmarena.com/vv/bigpic/samsung-galaxy-f14.jpg\" title=\"Samsung Galaxy F14 Android smartphone. Announced Mar 2023. Features 6.6″  display, Exynos 1330 chipset, 6000 mAh battery, 128 GB storage, 6 GB RAM, Corning Gorilla Glass 5.\"/><strong><span>Galaxy F14</span></strong></a></li><li><a href=\"samsung_galaxy_m54-12189.php\"><img src=\"https://fdn2.gsmarena.com/vv/bigpic/samsung-galaxy-m54-5g.jpg\" title=\"Samsung Galaxy M54 Android smartphone. Announced Mar 2023. Features 6.7″  display, Exynos 1380 chipset, 6000 mAh battery, 256 GB storage, 8 GB RAM, Corning Gorilla Glass 5.\"/><strong><span>Galaxy M54</span></strong></a></li><li><a href=\"samsung_galaxy_a54-12070.php\"><img src=\"https://fdn2.gsmarena.com/vv/bigpic/samsung-galaxy-a54.jpg\" title=\"Samsung Galaxy A54 Android smartphone. Announced Mar 2023. Features 6.4″  display, Exynos 1380 chipset, 5000 mAh battery, 256 GB storage, 8 GB RAM, Corning Gorilla Glass 5.\"/><strong><span>Galaxy A54</span></strong></a></li><li><a href=\"samsung_galaxy_a34-12074.php\"><img src=\"https://fdn2.gsmarena.com/vv/bigpic/samsung-galaxy-a34.jpg\" title=\"Samsung Galaxy A34 Android smartphone. Announced Mar 2023. Features 6.6″  display, Dimensity 1080 chipset, 5000 mAh battery, 256 GB storage, 8 GB RAM, Corning Gorilla Glass 5.\"/><strong><span>Galaxy A34</span></strong></a></li><li><a href=\"samsung_galaxy_m14-12160.php\"><img src=\"https://fdn2.gsmarena.com/vv/bigpic/samsung-galaxy-m14-5g-sm-m146.jpg\" title=\"Samsung Galaxy M14 Android smartphone. Announced Mar 2023. Features 6.6″  display, Exynos 1330 chipset, 6000 mAh battery, 128 GB storage, 6 GB RAM, Corning Gorilla Glass 5.\"/><strong><span>Galaxy M14</span></strong></a></li><li><a href=\"samsung_galaxy_s23_ultra-12024.php\"><img src=\"https://fdn2.gsmarena.com/vv/bigpic/samsung-galaxy-s23-ultra-5g.jpg\" title=\"Samsung Galaxy S23 Ultra Android smartphone. Announced Feb 2023. Features 6.8″  display, Snapdragon 8 Gen 2 chipset, 5000 mAh battery, 1024 GB storage, 12 GB RAM, Corning Gorilla Glass Victus 2.\"/><strong><span>Galaxy S23 Ultra</span></strong></a></li><li><a href=\"samsung_galaxy_s23+-12083.php\"><img src=\"https://fdn2.gsmarena.com/vv/bigpic/samsung-galaxy-s23-plus-5g.jpg\" title=\"Samsung Galaxy S23+ Android smartphone. Announced Feb 2023. Features 6.6″  display, Snapdragon 8 Gen 2 chipset, 4700 mAh battery, 512 GB storage, 8 GB RAM, Corning Gorilla Glass Victus 2.\"/><strong><span>Galaxy S23+</span></strong></a></li><li><a href=\"samsung_galaxy_s23-12082.php\"><img src=\"https://fdn2.gsmarena.com/vv/bigpic/samsung-galaxy-s23-5g.jpg\" title=\"Samsung Galaxy S23 Android smartphone. Announced Feb 2023. Features 6.1″  display, Snapdragon 8 Gen 2 chipset, 3900 mAh battery, 512 GB storage, 8 GB RAM, Corning Gorilla Glass Victus 2.\"/><strong><span>Galaxy S23</span></strong></a></li><li><a href=\"samsung_galaxy_a14-12151.php\"><img src=\"https://fdn2.gsmarena.com/vv/bigpic/samsung-galaxy-a14-4g.jpg\" title=\"Samsung Galaxy A14 Android smartphone. Announced Feb 2023. Features 6.6″  display, MT6769 Helio G80 chipset, 5000 mAh battery, 128 GB storage, 6 GB RAM.\"/><strong><span>Galaxy A14</span></strong></a></li><li><a href=\"samsung_galaxy_a14_5g-12004.php\"><img src=\"https://fdn2.gsmarena.com/vv/bigpic/samsung-galaxy-a14-5g.jpg\" title=\"Samsung Galaxy A14 5G Android smartphone. Announced Jan 2023. Features 6.6″  display, Exynos 1330 chipset, 5000 mAh battery, 128 GB storage, 8 GB RAM.\"/><strong><span>Galaxy A14 5G</span></strong></a></li><li><a href=\"samsung_galaxy_f04-12054.php\"><img src=\"https://fdn2.gsmarena.com/vv/bigpic/samsung-galaxy-f04-new.jpg\" title=\"Samsung Galaxy F04 Android smartphone. Announced Jan 2023. Features 6.5″  display, MT6765 Helio P35 chipset, 5000 mAh battery, 64 GB storage, 4 GB RAM.\"/><strong><span>Galaxy F04</span></strong></a></li><li><a href=\"samsung_galaxy_m04-12022.php\"><img src=\"https://fdn2.gsmarena.com/vv/bigpic/samsung-galaxy-m04-.jpg\" title=\"Samsung Galaxy M04 Android smartphone. Announced Dec 2022. Features 6.5″  display, MT6765 Helio P35 chipset, 5000 mAh battery, 128 GB storage, 4 GB RAM.\"/><strong><span>Galaxy M04</span></strong></a></li><li><a href=\"samsung_galaxy_tab_a7_10_4_(2022)-11988.php\"><img src=\"https://fdn2.gsmarena.com/vv/bigpic/samsung-galaxy-tab-a7-104-2020.jpg\" title=\"Samsung Galaxy Tab A7 10.4 (2022) Android tablet. Announced Nov 2022. Features 10.4″  display, Unisoc UMS512 T618 chipset, 7040 mAh battery, 64 GB storage, 4 GB RAM.\"/><strong><span>Galaxy Tab A7 10.4 (2022)</span></strong></a></li><li><a href=\"samsung_galaxy_a04e-11945.php\"><img src=\"https://fdn2.gsmarena.com/vv/bigpic/samsung-galaxy-a04e.jpg\" title=\"Samsung Galaxy A04e Android smartphone. Announced Oct 2022. Features 6.5″  display, MT6765 Helio P35 chipset, 5000 mAh battery, 128 GB storage, 4 GB RAM.\"/><strong><span>Galaxy A04e</span></strong></a></li><li><a href=\"samsung_galaxy_tab_active4_pro-11840.php\"><img src=\"https://fdn2.gsmarena.com/vv/bigpic/samsung-galaxy-tab-active4-pro.jpg\" title=\"Samsung Galaxy Tab Active4 Pro Android tablet. Announced Aug 2022. Features 10.1″  display, Snapdragon 778G 5G chipset, 7600 mAh battery, 128 GB storage, 4 GB RAM, MIL-STD-810H compliant, Corning Gorilla Glass 5.\"/><strong><span>Galaxy Tab Active4 Pro</span></strong></a></li><li><a href=\"samsung_galaxy_a04s-11803.php\"><img src=\"https://fdn2.gsmarena.com/vv/bigpic/samsung-galaxy-a04s.jpg\" title=\"Samsung Galaxy A04s Android smartphone. Announced Aug 2022. Features 6.5″  display, Exynos 850 chipset, 5000 mAh battery, 128 GB storage, 4 GB RAM.\"/><strong><span>Galaxy A04s</span></strong></a></li>\n",
       "</ul>\n",
       "<br class=\"clear\"/>\n",
       "</div>"
      ]
     },
     "execution_count": 4,
     "metadata": {},
     "output_type": "execute_result"
    }
   ],
   "source": [
    "models = soup.find_all(attrs={\"class\" : 'makers'})\n",
    "models[0]"
   ]
  },
  {
   "cell_type": "code",
   "execution_count": 5,
   "metadata": {},
   "outputs": [
    {
     "data": {
      "text/plain": [
       "'samsung_galaxy_c55-12945.php'"
      ]
     },
     "execution_count": 5,
     "metadata": {},
     "output_type": "execute_result"
    }
   ],
   "source": [
    "models[0].find_all('a')[0].get('href')"
   ]
  }
 ],
 "metadata": {
  "kernelspec": {
   "display_name": "ml_env",
   "language": "python",
   "name": "python3"
  },
  "language_info": {
   "codemirror_mode": {
    "name": "ipython",
    "version": 3
   },
   "file_extension": ".py",
   "mimetype": "text/x-python",
   "name": "python",
   "nbconvert_exporter": "python",
   "pygments_lexer": "ipython3",
   "version": "3.11.9"
  }
 },
 "nbformat": 4,
 "nbformat_minor": 2
}
